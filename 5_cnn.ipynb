{
 "cells": [
  {
   "cell_type": "code",
   "execution_count": 1,
   "id": "lesbian-corner",
   "metadata": {},
   "outputs": [],
   "source": [
    "import tensorflow as tf\n",
    "\n",
    "from tensorflow.keras import datasets, layers, models\n",
    "import matplotlib.pyplot as plt\n",
    "import os\n",
    "\n",
    "# I get an error without this...\n",
    "os.environ['TF_FORCE_GPU_ALLOW_GROWTH'] = 'true'"
   ]
  },
  {
   "cell_type": "code",
   "execution_count": 2,
   "id": "nuclear-blame",
   "metadata": {},
   "outputs": [],
   "source": [
    "model = models.Sequential()\n",
    "model.add(layers.Conv2D(32, (3, 3), activation='relu', input_shape=(19, 19, 23)))\n",
    "model.add(layers.Dropout(0.5))\n",
    "model.add(layers.MaxPooling2D((2, 2)))\n",
    "model.add(layers.Conv2D(64, (3, 3), activation='relu'))\n",
    "model.add(layers.Dropout(0.5))\n",
    "model.add(layers.MaxPooling2D((2, 2)))\n",
    "model.add(layers.Conv2D(64, (3, 3), activation='relu'))"
   ]
  },
  {
   "cell_type": "code",
   "execution_count": 3,
   "id": "moving-combine",
   "metadata": {},
   "outputs": [],
   "source": [
    "model.add(layers.Flatten())\n",
    "model.add(layers.Dense(64, activation='relu'))\n",
    "model.add(layers.Dense(1, activation='sigmoid'))"
   ]
  },
  {
   "cell_type": "code",
   "execution_count": 4,
   "id": "democratic-short",
   "metadata": {},
   "outputs": [
    {
     "name": "stdout",
     "output_type": "stream",
     "text": [
      "Model: \"sequential\"\n",
      "_________________________________________________________________\n",
      "Layer (type)                 Output Shape              Param #   \n",
      "=================================================================\n",
      "conv2d (Conv2D)              (None, 17, 17, 32)        6656      \n",
      "_________________________________________________________________\n",
      "dropout (Dropout)            (None, 17, 17, 32)        0         \n",
      "_________________________________________________________________\n",
      "max_pooling2d (MaxPooling2D) (None, 8, 8, 32)          0         \n",
      "_________________________________________________________________\n",
      "conv2d_1 (Conv2D)            (None, 6, 6, 64)          18496     \n",
      "_________________________________________________________________\n",
      "dropout_1 (Dropout)          (None, 6, 6, 64)          0         \n",
      "_________________________________________________________________\n",
      "max_pooling2d_1 (MaxPooling2 (None, 3, 3, 64)          0         \n",
      "_________________________________________________________________\n",
      "conv2d_2 (Conv2D)            (None, 1, 1, 64)          36928     \n",
      "_________________________________________________________________\n",
      "flatten (Flatten)            (None, 64)                0         \n",
      "_________________________________________________________________\n",
      "dense (Dense)                (None, 64)                4160      \n",
      "_________________________________________________________________\n",
      "dense_1 (Dense)              (None, 1)                 65        \n",
      "=================================================================\n",
      "Total params: 66,305\n",
      "Trainable params: 66,305\n",
      "Non-trainable params: 0\n",
      "_________________________________________________________________\n"
     ]
    }
   ],
   "source": [
    "model.summary()"
   ]
  },
  {
   "cell_type": "code",
   "execution_count": 5,
   "id": "seasonal-slide",
   "metadata": {},
   "outputs": [
    {
     "name": "stdout",
     "output_type": "stream",
     "text": [
      "Training on 4028 total examples. 853 positive examples, 3175 negative examples.\n",
      "Testing on 1007 total examples. 237 positive examples, 770 negative examples.\n"
     ]
    }
   ],
   "source": [
    "import pickle\n",
    "structures = pickle.load(open(\"processed_data/structure_density_maps.pickle\", \"rb\"))\n",
    "structures_names = pickle.load(open(\"processed_data/structure_density_maps_names.pickle\", \"rb\"))\n",
    "structures_labels = pickle.load(open(\"processed_data/structure_density_maps_labels.pickle\", \"rb\"))\n",
    "\n",
    "import sklearn.model_selection\n",
    "\n",
    "(\n",
    "    train_X,\n",
    "    test_X,\n",
    "    train_Y,\n",
    "    test_Y,\n",
    "    train_names,\n",
    "    test_names\n",
    ") = sklearn.model_selection.train_test_split(structures, structures_labels, structures_names, test_size=0.2)\n",
    "\n",
    "bool_train_labels = train_Y != 0\n",
    "bool_test_labels = test_Y != 0\n",
    "\n",
    "pos_train_examples, neg_train_examples = train_X[bool_train_labels], train_X[~bool_train_labels]\n",
    "pos_test_examples, neg_test_examples = test_X[bool_test_labels], test_X[~bool_test_labels]\n",
    "\n",
    "print(\"Training on\", train_X.shape[0], \"total examples.\",\n",
    "      len(pos_train_examples), \"positive examples,\", len(neg_train_examples), \"negative examples.\")\n",
    "print(\"Testing on\", test_X.shape[0], \"total examples.\",\n",
    "      len(pos_test_examples), \"positive examples,\", len(neg_test_examples), \"negative examples.\")"
   ]
  },
  {
   "cell_type": "code",
   "execution_count": 6,
   "id": "powered-agency",
   "metadata": {},
   "outputs": [
    {
     "name": "stdout",
     "output_type": "stream",
     "text": [
      "Epoch 1/100\n",
      "126/126 [==============================] - 2s 18ms/step - loss: 1.1231 - tp: 592.0000 - fp: 1796.0000 - tn: 1379.0000 - fn: 261.0000 - accuracy: 0.4893 - precision: 0.2479 - recall: 0.6940 - auc: 0.5896 - prc: 0.2735 - val_loss: 0.7288 - val_tp: 210.0000 - val_fp: 595.0000 - val_tn: 175.0000 - val_fn: 27.0000 - val_accuracy: 0.3823 - val_precision: 0.2609 - val_recall: 0.8861 - val_auc: 0.6274 - val_prc: 0.3367\n",
      "Epoch 2/100\n",
      "126/126 [==============================] - 1s 9ms/step - loss: 1.0943 - tp: 601.0000 - fp: 1657.0000 - tn: 1518.0000 - fn: 252.0000 - accuracy: 0.5261 - precision: 0.2662 - recall: 0.7046 - auc: 0.6297 - prc: 0.3094 - val_loss: 0.6749 - val_tp: 140.0000 - val_fp: 294.0000 - val_tn: 476.0000 - val_fn: 97.0000 - val_accuracy: 0.6117 - val_precision: 0.3226 - val_recall: 0.5907 - val_auc: 0.6457 - val_prc: 0.3395\n",
      "Epoch 3/100\n",
      "126/126 [==============================] - 1s 8ms/step - loss: 1.0762 - tp: 574.0000 - fp: 1497.0000 - tn: 1678.0000 - fn: 279.0000 - accuracy: 0.5591 - precision: 0.2772 - recall: 0.6729 - auc: 0.6481 - prc: 0.3246 - val_loss: 0.6828 - val_tp: 196.0000 - val_fp: 496.0000 - val_tn: 274.0000 - val_fn: 41.0000 - val_accuracy: 0.4667 - val_precision: 0.2832 - val_recall: 0.8270 - val_auc: 0.6541 - val_prc: 0.3485\n",
      "Epoch 4/100\n",
      "126/126 [==============================] - 1s 9ms/step - loss: 1.0695 - tp: 635.0000 - fp: 1700.0000 - tn: 1475.0000 - fn: 218.0000 - accuracy: 0.5238 - precision: 0.2719 - recall: 0.7444 - auc: 0.6594 - prc: 0.3261 - val_loss: 0.6971 - val_tp: 188.0000 - val_fp: 466.0000 - val_tn: 304.0000 - val_fn: 49.0000 - val_accuracy: 0.4886 - val_precision: 0.2875 - val_recall: 0.7932 - val_auc: 0.6572 - val_prc: 0.3600\n",
      "Epoch 5/100\n",
      "126/126 [==============================] - 1s 9ms/step - loss: 1.0659 - tp: 624.0000 - fp: 1620.0000 - tn: 1555.0000 - fn: 229.0000 - accuracy: 0.5410 - precision: 0.2781 - recall: 0.7315 - auc: 0.6649 - prc: 0.3295 - val_loss: 0.6898 - val_tp: 193.0000 - val_fp: 455.0000 - val_tn: 315.0000 - val_fn: 44.0000 - val_accuracy: 0.5045 - val_precision: 0.2978 - val_recall: 0.8143 - val_auc: 0.6628 - val_prc: 0.3623\n",
      "Epoch 6/100\n",
      "126/126 [==============================] - 1s 9ms/step - loss: 1.0573 - tp: 590.0000 - fp: 1474.0000 - tn: 1701.0000 - fn: 263.0000 - accuracy: 0.5688 - precision: 0.2859 - recall: 0.6917 - auc: 0.6706 - prc: 0.3462 - val_loss: 0.6610 - val_tp: 164.0000 - val_fp: 323.0000 - val_tn: 447.0000 - val_fn: 73.0000 - val_accuracy: 0.6068 - val_precision: 0.3368 - val_recall: 0.6920 - val_auc: 0.6789 - val_prc: 0.3844\n",
      "Epoch 7/100\n",
      "126/126 [==============================] - 1s 8ms/step - loss: 1.0523 - tp: 602.0000 - fp: 1443.0000 - tn: 1732.0000 - fn: 251.0000 - accuracy: 0.5794 - precision: 0.2944 - recall: 0.7057 - auc: 0.6793 - prc: 0.3476 - val_loss: 0.6790 - val_tp: 186.0000 - val_fp: 425.0000 - val_tn: 345.0000 - val_fn: 51.0000 - val_accuracy: 0.5273 - val_precision: 0.3044 - val_recall: 0.7848 - val_auc: 0.6775 - val_prc: 0.3709\n",
      "Epoch 8/100\n",
      "126/126 [==============================] - 1s 9ms/step - loss: 1.0408 - tp: 614.0000 - fp: 1453.0000 - tn: 1722.0000 - fn: 239.0000 - accuracy: 0.5799 - precision: 0.2970 - recall: 0.7198 - auc: 0.6868 - prc: 0.3536 - val_loss: 0.6779 - val_tp: 179.0000 - val_fp: 419.0000 - val_tn: 351.0000 - val_fn: 58.0000 - val_accuracy: 0.5263 - val_precision: 0.2993 - val_recall: 0.7553 - val_auc: 0.6687 - val_prc: 0.3805\n",
      "Epoch 9/100\n",
      "126/126 [==============================] - 1s 9ms/step - loss: 1.0315 - tp: 599.0000 - fp: 1368.0000 - tn: 1807.0000 - fn: 254.0000 - accuracy: 0.5973 - precision: 0.3045 - recall: 0.7022 - auc: 0.6918 - prc: 0.3610 - val_loss: 0.6214 - val_tp: 129.0000 - val_fp: 191.0000 - val_tn: 579.0000 - val_fn: 108.0000 - val_accuracy: 0.7031 - val_precision: 0.4031 - val_recall: 0.5443 - val_auc: 0.6870 - val_prc: 0.3857\n",
      "Epoch 10/100\n",
      "126/126 [==============================] - 1s 9ms/step - loss: 1.0246 - tp: 632.0000 - fp: 1474.0000 - tn: 1701.0000 - fn: 221.0000 - accuracy: 0.5792 - precision: 0.3001 - recall: 0.7409 - auc: 0.6936 - prc: 0.3680 - val_loss: 0.6430 - val_tp: 166.0000 - val_fp: 336.0000 - val_tn: 434.0000 - val_fn: 71.0000 - val_accuracy: 0.5958 - val_precision: 0.3307 - val_recall: 0.7004 - val_auc: 0.6925 - val_prc: 0.4163\n",
      "Epoch 11/100\n",
      "126/126 [==============================] - 1s 9ms/step - loss: 1.0103 - tp: 654.0000 - fp: 1431.0000 - tn: 1744.0000 - fn: 199.0000 - accuracy: 0.5953 - precision: 0.3137 - recall: 0.7667 - auc: 0.7125 - prc: 0.3759 - val_loss: 0.6583 - val_tp: 176.0000 - val_fp: 356.0000 - val_tn: 414.0000 - val_fn: 61.0000 - val_accuracy: 0.5859 - val_precision: 0.3308 - val_recall: 0.7426 - val_auc: 0.6894 - val_prc: 0.4119\n",
      "Epoch 12/100\n",
      "126/126 [==============================] - 1s 8ms/step - loss: 1.0096 - tp: 644.0000 - fp: 1406.0000 - tn: 1769.0000 - fn: 209.0000 - accuracy: 0.5991 - precision: 0.3141 - recall: 0.7550 - auc: 0.7135 - prc: 0.3814 - val_loss: 0.6793 - val_tp: 185.0000 - val_fp: 410.0000 - val_tn: 360.0000 - val_fn: 52.0000 - val_accuracy: 0.5412 - val_precision: 0.3109 - val_recall: 0.7806 - val_auc: 0.6874 - val_prc: 0.4059\n",
      "Epoch 13/100\n",
      "126/126 [==============================] - 1s 9ms/step - loss: 0.9878 - tp: 647.0000 - fp: 1424.0000 - tn: 1751.0000 - fn: 206.0000 - accuracy: 0.5953 - precision: 0.3124 - recall: 0.7585 - auc: 0.7248 - prc: 0.4143 - val_loss: 0.6401 - val_tp: 143.0000 - val_fp: 299.0000 - val_tn: 471.0000 - val_fn: 94.0000 - val_accuracy: 0.6097 - val_precision: 0.3235 - val_recall: 0.6034 - val_auc: 0.6699 - val_prc: 0.3983\n",
      "Epoch 14/100\n",
      "126/126 [==============================] - 1s 9ms/step - loss: 0.9929 - tp: 641.0000 - fp: 1356.0000 - tn: 1819.0000 - fn: 212.0000 - accuracy: 0.6107 - precision: 0.3210 - recall: 0.7515 - auc: 0.7247 - prc: 0.4000 - val_loss: 0.6112 - val_tp: 137.0000 - val_fp: 245.0000 - val_tn: 525.0000 - val_fn: 100.0000 - val_accuracy: 0.6574 - val_precision: 0.3586 - val_recall: 0.5781 - val_auc: 0.6826 - val_prc: 0.4047\n",
      "Epoch 15/100\n",
      "126/126 [==============================] - 1s 9ms/step - loss: 0.9839 - tp: 662.0000 - fp: 1396.0000 - tn: 1779.0000 - fn: 191.0000 - accuracy: 0.6060 - precision: 0.3217 - recall: 0.7761 - auc: 0.7334 - prc: 0.4151 - val_loss: 0.7257 - val_tp: 205.0000 - val_fp: 589.0000 - val_tn: 181.0000 - val_fn: 32.0000 - val_accuracy: 0.3833 - val_precision: 0.2582 - val_recall: 0.8650 - val_auc: 0.6570 - val_prc: 0.3884\n",
      "Epoch 16/100\n",
      "126/126 [==============================] - 1s 9ms/step - loss: 0.9701 - tp: 665.0000 - fp: 1336.0000 - tn: 1839.0000 - fn: 188.0000 - accuracy: 0.6216 - precision: 0.3323 - recall: 0.7796 - auc: 0.7415 - prc: 0.4224 - val_loss: 0.6170 - val_tp: 135.0000 - val_fp: 254.0000 - val_tn: 516.0000 - val_fn: 102.0000 - val_accuracy: 0.6465 - val_precision: 0.3470 - val_recall: 0.5696 - val_auc: 0.6657 - val_prc: 0.3960\n",
      "Epoch 17/100\n",
      "126/126 [==============================] - 1s 9ms/step - loss: 0.9532 - tp: 676.0000 - fp: 1385.0000 - tn: 1790.0000 - fn: 177.0000 - accuracy: 0.6122 - precision: 0.3280 - recall: 0.7925 - auc: 0.7494 - prc: 0.4364 - val_loss: 0.6274 - val_tp: 156.0000 - val_fp: 302.0000 - val_tn: 468.0000 - val_fn: 81.0000 - val_accuracy: 0.6197 - val_precision: 0.3406 - val_recall: 0.6582 - val_auc: 0.6854 - val_prc: 0.4097\n",
      "Epoch 18/100\n",
      "126/126 [==============================] - 1s 8ms/step - loss: 0.9390 - tp: 679.0000 - fp: 1321.0000 - tn: 1854.0000 - fn: 174.0000 - accuracy: 0.6288 - precision: 0.3395 - recall: 0.7960 - auc: 0.7596 - prc: 0.4547 - val_loss: 0.6430 - val_tp: 164.0000 - val_fp: 361.0000 - val_tn: 409.0000 - val_fn: 73.0000 - val_accuracy: 0.5690 - val_precision: 0.3124 - val_recall: 0.6920 - val_auc: 0.6674 - val_prc: 0.3802\n",
      "Epoch 19/100\n",
      "126/126 [==============================] - 1s 8ms/step - loss: 0.9462 - tp: 670.0000 - fp: 1292.0000 - tn: 1883.0000 - fn: 183.0000 - accuracy: 0.6338 - precision: 0.3415 - recall: 0.7855 - auc: 0.7546 - prc: 0.4433 - val_loss: 0.6624 - val_tp: 179.0000 - val_fp: 386.0000 - val_tn: 384.0000 - val_fn: 58.0000 - val_accuracy: 0.5591 - val_precision: 0.3168 - val_recall: 0.7553 - val_auc: 0.6845 - val_prc: 0.4090\n",
      "Epoch 20/100\n",
      "126/126 [==============================] - 1s 8ms/step - loss: 0.9187 - tp: 692.0000 - fp: 1282.0000 - tn: 1893.0000 - fn: 161.0000 - accuracy: 0.6418 - precision: 0.3506 - recall: 0.8113 - auc: 0.7749 - prc: 0.4730 - val_loss: 0.6567 - val_tp: 168.0000 - val_fp: 392.0000 - val_tn: 378.0000 - val_fn: 69.0000 - val_accuracy: 0.5422 - val_precision: 0.3000 - val_recall: 0.7089 - val_auc: 0.6787 - val_prc: 0.4079\n",
      "Epoch 21/100\n",
      "120/126 [===========================>..] - ETA: 0s - loss: 0.8947 - tp: 666.0000 - fp: 1198.0000 - tn: 1821.0000 - fn: 155.0000 - accuracy: 0.6477 - precision: 0.3573 - recall: 0.8112 - auc: 0.7882 - prc: 0.5002Restoring model weights from the end of the best epoch.\n",
      "126/126 [==============================] - 1s 9ms/step - loss: 0.8967 - tp: 689.0000 - fp: 1256.0000 - tn: 1919.0000 - fn: 164.0000 - accuracy: 0.6475 - precision: 0.3542 - recall: 0.8077 - auc: 0.7854 - prc: 0.4919 - val_loss: 0.6030 - val_tp: 127.0000 - val_fp: 243.0000 - val_tn: 527.0000 - val_fn: 110.0000 - val_accuracy: 0.6495 - val_precision: 0.3432 - val_recall: 0.5359 - val_auc: 0.6617 - val_prc: 0.4045\n",
      "Epoch 00021: early stopping\n"
     ]
    }
   ],
   "source": [
    "from tensorflow import keras\n",
    "from tensorflow.keras.callbacks import EarlyStopping\n",
    "\n",
    "metrics = [\n",
    "      keras.metrics.TruePositives(name='tp'),\n",
    "      keras.metrics.FalsePositives(name='fp'),\n",
    "      keras.metrics.TrueNegatives(name='tn'),\n",
    "      keras.metrics.FalseNegatives(name='fn'), \n",
    "      keras.metrics.BinaryAccuracy(name='accuracy'),\n",
    "      keras.metrics.Precision(name='precision'),\n",
    "      keras.metrics.Recall(name='recall'),\n",
    "      keras.metrics.AUC(name='auc'),\n",
    "      keras.metrics.AUC(name='prc', curve='PR'), # precision-recall curve\n",
    "]\n",
    "\n",
    "early_stopping = keras.callbacks.EarlyStopping(\n",
    "    monitor='val_prc',\n",
    "    verbose=1,\n",
    "    patience=20,\n",
    "    min_delta=0.01,\n",
    "    restore_best_weights=True,\n",
    ")\n",
    "\n",
    "model.compile(optimizer='adam',\n",
    "              loss=\"binary_crossentropy\",\n",
    "              metrics=metrics)\n",
    "\n",
    "history = model.fit(train_X,\n",
    "                    train_Y,\n",
    "                    epochs=100,\n",
    "                    verbose=1,\n",
    "                    callbacks=[early_stopping],\n",
    "                    validation_data=(test_X, test_Y),\n",
    "                    class_weight={0: 1, 1: 4}\n",
    "                   )"
   ]
  },
  {
   "cell_type": "code",
   "execution_count": 7,
   "id": "mexican-growing",
   "metadata": {},
   "outputs": [
    {
     "name": "stdout",
     "output_type": "stream",
     "text": [
      "32/32 [==============================] - 0s 5ms/step - loss: 0.7288 - tp: 210.0000 - fp: 595.0000 - tn: 175.0000 - fn: 27.0000 - accuracy: 0.3823 - precision: 0.2609 - recall: 0.8861 - auc: 0.6274 - prc: 0.3367\n",
      "loss : 0.7287580966949463\n",
      "tp : 210.0\n",
      "fp : 595.0\n",
      "tn : 175.0\n",
      "fn : 27.0\n",
      "accuracy : 0.3823237419128418\n",
      "precision : 0.260869562625885\n",
      "recall : 0.8860759735107422\n",
      "auc : 0.6273631453514099\n",
      "prc : 0.33673152327537537\n",
      "\n"
     ]
    },
    {
     "data": {
      "image/png": "[encoded data removed]",
      "text/plain": [
       "<Figure size 432x288 with 1 Axes>"
      ]
     },
     "metadata": {
      "needs_background": "light"
     },
     "output_type": "display_data"
    }
   ],
   "source": [
    "plt.plot(history.history['loss'], label='loss')\n",
    "plt.plot(history.history['val_loss'], label='val_loss')\n",
    "plt.xlabel('Epoch')\n",
    "plt.ylabel('Loss')\n",
    "#plt.ylim([0.5, 1])\n",
    "plt.legend(loc='lower right')\n",
    "\n",
    "pred_Y_results = model.evaluate(test_X, test_Y, verbose=1)\n",
    "for name, value in zip(model.metrics_names, pred_Y_results):\n",
    "    print(name, ':', value)\n",
    "print()"
   ]
  }
 ],
 "metadata": {
  "kernelspec": {
   "display_name": "Python 3",
   "language": "python",
   "name": "python3"
  },
  "language_info": {
   "codemirror_mode": {
    "name": "ipython",
    "version": 3
   },
   "file_extension": ".py",
   "mimetype": "text/x-python",
   "name": "python",
   "nbconvert_exporter": "python",
   "pygments_lexer": "ipython3",
   "version": "3.6.13"
  }
 },
 "nbformat": 4,
 "nbformat_minor": 5
}
