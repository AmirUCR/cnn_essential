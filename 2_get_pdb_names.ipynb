{
 "cells": [
  {
   "cell_type": "markdown",
   "id": "catholic-sheet",
   "metadata": {},
   "source": [
    "Searches raw_data/yeast_uniprot_proteins.fasta and makes a dictionary of gene symbol: uniprot_id\n",
    "\n",
    "Goes through annotation datasets and appends a new uniprot_id column for each gene name "
   ]
  },
  {
   "cell_type": "code",
   "execution_count": 1,
   "id": "built-barbados",
   "metadata": {},
   "outputs": [],
   "source": [
    "from Bio import SeqIO\n",
    "from Bio.Seq import Seq\n",
    "from Bio.SeqRecord import SeqRecord\n",
    "import re\n",
    "\n",
    "symbol_names_dict = dict()\n",
    "\n",
    "for f in SeqIO.parse(\"raw_data/yeast_uniprot_proteins.fasta\", 'fasta'):\n",
    "    gene_ref = re.search(r\"GN=(.*?) \", f.description)  # Matches GN=TFC3\n",
    "    gene_name = re.search(r\"\\|(.*)\\|\", f.description)  # Matches |P34111|\n",
    "    \n",
    "    if gene_ref and gene_name:\n",
    "        symbol_names_dict[gene_ref.groups()[0]] = gene_name.groups()[0]  # e.g. 'CYC1': 'P00044'"
   ]
  },
  {
   "cell_type": "code",
   "execution_count": 2,
   "id": "coordinate-vacuum",
   "metadata": {},
   "outputs": [
    {
     "name": "stdout",
     "output_type": "stream",
     "text": [
      "Found 1092 uniprot ids out of 1110\n",
      "Lost 18 examples\n",
      "Found 3953 uniprot ids out of 4020\n",
      "Lost 67 examples\n"
     ]
    }
   ],
   "source": [
    "def find_uniprot_ids(df, symbol_names_dict, dataframe_gene_ref_col_name=\"#Gene_Ref\"):\n",
    "    import pandas as pd\n",
    "    import numpy as np\n",
    "\n",
    "    uniprot_ids = list()\n",
    "    count = 0\n",
    "\n",
    "    for ref in list(df[dataframe_gene_ref_col_name]):\n",
    "        if ref in symbol_names_dict.keys():\n",
    "            uniprot_ids.append(symbol_names_dict[ref])\n",
    "            count += 1\n",
    "        else:\n",
    "            uniprot_ids.append(\"-\")\n",
    "\n",
    "    print(\"Found\", count, \"uniprot ids out of\", df.shape[0])\n",
    "    print(\"Lost\", df.shape[0] - count, \"examples\")\n",
    "    \n",
    "    return uniprot_ids\n",
    "    \n",
    "\n",
    "import pandas as pd\n",
    "ess_df = pd.read_csv(\"processed_ess/degannotation-e.dat\", sep=\"\\t\")\n",
    "ness_df = pd.read_csv(\"processed_ness/degannotation-ne.dat\", sep=\"\\t\")  \n",
    "\n",
    "ess_ids  = find_uniprot_ids(ess_df, symbol_names_dict)\n",
    "ness_ids = find_uniprot_ids(ness_df, symbol_names_dict)\n",
    "\n",
    "ess_df[\"#Uniprot_ID\"] = pd.Series(ess_ids)\n",
    "ness_df[\"#Uniprot_ID\"] = pd.Series(ness_ids)\n",
    "\n",
    "# Re-order columns\n",
    "ess_df = ess_df[[\"#DEG_AC\", \"#Gene_Name\", \"#Gene_Ref\", \"#Uniprot_ID\"] +\n",
    "                [c for c in ess_df.columns if c not in [\"#DEG_AC\", \"#Gene_Name\", \"#Gene_Ref\", \"#Uniprot_ID\"]]]\n",
    "ness_df = ness_df[[\"#DEG_AC\", \"#Gene_Name\", \"#Gene_Ref\", \"#Uniprot_ID\"] +\n",
    "                [c for c in ness_df.columns if c not in [\"#DEG_AC\", \"#Gene_Name\", \"#Gene_Ref\", \"#Uniprot_ID\"]]]\n",
    "\n",
    "ess_df.to_csv(\"processed_ess/degannotation-e-uniprot.dat\", sep =\"\\t\", index=False)\n",
    "ness_df.to_csv(\"processed_ness/degannotation-ne-uniprot.dat\", sep =\"\\t\", index=False)"
   ]
  }
 ],
 "metadata": {
  "kernelspec": {
   "display_name": "Python 3",
   "language": "python",
   "name": "python3"
  },
  "language_info": {
   "codemirror_mode": {
    "name": "ipython",
    "version": 3
   },
   "file_extension": ".py",
   "mimetype": "text/x-python",
   "name": "python",
   "nbconvert_exporter": "python",
   "pygments_lexer": "ipython3",
   "version": "3.6.13"
  }
 },
 "nbformat": 4,
 "nbformat_minor": 5
}
