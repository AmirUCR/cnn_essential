{
 "cells": [
  {
   "cell_type": "code",
   "execution_count": null,
   "id": "russian-theorem",
   "metadata": {},
   "outputs": [],
   "source": [
    "structure_path = \"raw_data/alphafold_structures\""
   ]
  },
  {
   "cell_type": "code",
   "execution_count": null,
   "id": "vocational-modification",
   "metadata": {},
   "outputs": [],
   "source": [
    "# Returns list of (uniprot_id, file_name) e.g., [(\"P49723\", \"P49723.pdb\"), ...]\n",
    "def get_uniprot_id_and_file_name_tuple_in_path(path):\n",
    "    from os import listdir\n",
    "    return {file.split(\".\")[0]: file\n",
    "            for file in listdir(path)}  # \"raw_data/alphafold_structures\""
   ]
  },
  {
   "cell_type": "code",
   "execution_count": 3,
   "id": "peaceful-matter",
   "metadata": {},
   "outputs": [],
   "source": [
    "feature_names = [\"#Gene_Name\", \"#Uniprot_ID\"]\n",
    "\n",
    "def make_prot_feat_df(gene_seq_path, prot_seq_path, annotation_path):\n",
    "    import pandas as pd\n",
    "    import numpy as np\n",
    "    from Bio import SeqIO\n",
    "    from Bio.Seq import Seq\n",
    "    from Bio.SeqRecord import SeqRecord\n",
    "    from Bio.SeqUtils.ProtParam import ProteinAnalysis\n",
    "    \n",
    "    identifiers = list()\n",
    "    uniprot_ids = dict()\n",
    "    all_feat_dict = dict()\n",
    "    \n",
    "    # Load annotation file\n",
    "    df = pd.read_csv(annotation_path, sep=\"\\t\")\n",
    "    pdb_id_and_file_names = get_uniprot_id_and_file_name_tuple_in_path(structure_path)\n",
    "    \n",
    "    print(\"Working...\")\n",
    "    for seq_record, prot_record in zip(SeqIO.parse(gene_seq_path, \"fasta\"), SeqIO.parse(prot_seq_path, \"fasta\")):\n",
    "        identifier = seq_record.name\n",
    "        uniprot_id = df[df[\"#Gene_Name\"]==identifier][\"#Uniprot_ID\"].values[0]\n",
    "        \n",
    "        if uniprot_id == \"-\" or uniprot_id not in pdb_id_and_file_names.keys():\n",
    "            continue\n",
    "            \n",
    "        identifiers.append(identifier)\n",
    "        uniprot_ids[identifier] = uniprot_id\n",
    "    \n",
    "    for identifier in identifiers:\n",
    "        attribute_list = list()\n",
    "        attribute_list.append(identifier)\n",
    "        attribute_list.append(uniprot_ids[identifier])\n",
    "        \n",
    "        all_feat_dict[identifier] = attribute_list\n",
    "        \n",
    "    df = pd.DataFrame.from_dict(all_feat_dict, orient='index').reset_index(drop=True)\n",
    "    \n",
    "    print(df)\n",
    "    \n",
    "    df.columns = feature_names\n",
    "    print(\"Done.\")"
   ]
  },
  {
   "cell_type": "code",
   "execution_count": 4,
   "id": "published-reserve",
   "metadata": {},
   "outputs": [
    {
     "name": "stdout",
     "output_type": "stream",
     "text": [
      "Working...\n",
      "                0       1\n",
      "0     DEG20010001  P34111\n",
      "1     DEG20010002  P32471\n",
      "2     DEG20010003  P10962\n",
      "3     DEG20010004  P28004\n",
      "4     DEG20010005  P28005\n",
      "...           ...     ...\n",
      "1085  DEG20011106  P54999\n",
      "1086  DEG20011107  P14020\n",
      "1087  DEG20011108  P39933\n",
      "1088  DEG20011109  P20435\n",
      "1089  DEG20011110  P32349\n",
      "\n",
      "[1090 rows x 2 columns]\n",
      "Done.\n",
      "Working...\n",
      "              0           1\n",
      "0       YGL195W      P33892\n",
      "1       YLR454W      Q06179\n",
      "2       YJR066W      P35169\n",
      "3       YHR165C      P33334\n",
      "4       YFR019W      P34756\n",
      "...         ...         ...\n",
      "3940    YDL232W      Q99380\n",
      "3941    YDR461W      P34165\n",
      "3942  YCL054W-A  A0A0B7P221\n",
      "3943  YDL133C-A      P0CX87\n",
      "3944    YDL184C      P0CX86\n",
      "\n",
      "[3945 rows x 2 columns]\n",
      "Done.\n"
     ]
    }
   ],
   "source": [
    "ess_df = make_prot_feat_df(\"processed_ess/degseq-e.dat\", \"processed_ess/degaa-e.dat\", \"processed_ess/degannotation-e-uniprot.dat\")\n",
    "ness_df = make_prot_feat_df(\"processed_ness/degseq-ne.dat\", \"processed_ness/degaa-ne.dat\", \"processed_ness/degannotation-ne-uniprot.dat\")\n",
    "ess_df[\"label\"] = 1\n",
    "ness_df[\"label\"] = 0"
   ]
  },
  {
   "cell_type": "code",
   "execution_count": 5,
   "id": "comprehensive-blank",
   "metadata": {},
   "outputs": [],
   "source": [
    "import pickle\n",
    "\n",
    "ess_df.to_csv(\"processed_data/yeast_ess_feat_tsv.tsv\", sep=\"\\t\", index=False)\n",
    "ness_df.to_csv(\"processed_data/yeast_ness_feat_tsv.tsv\", sep=\"\\t\", index=False)\n",
    "\n",
    "pickle.dump(ess_df, open(\"processed_data/yeast_ess_feat_df.pickle\", \"wb\"))\n",
    "pickle.dump(ness_df, open(\"processed_data/yeast_ness_feat_df.pickle\", \"wb\"))"
   ]
  }
 ],
 "metadata": {
  "kernelspec": {
   "display_name": "Python 3",
   "language": "python",
   "name": "python3"
  },
  "language_info": {
   "codemirror_mode": {
    "name": "ipython",
    "version": 3
   },
   "file_extension": ".py",
   "mimetype": "text/x-python",
   "name": "python",
   "nbconvert_exporter": "python",
   "pygments_lexer": "ipython3",
   "version": "3.6.13"
  }
 },
 "nbformat": 4,
 "nbformat_minor": 5
}
