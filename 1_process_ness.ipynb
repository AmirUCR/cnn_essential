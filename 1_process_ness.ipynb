{
 "cells": [
  {
   "cell_type": "markdown",
   "metadata": {},
   "source": [
    "## This notebook takes the entire saccharomyces cerevisiae genome as input and subtracts the essential genes leaving non-essential ones. It outputs degannotation-ne.dat, degaa-ne.dat, and degseq-ne.dat"
   ]
  },
  {
   "cell_type": "code",
   "execution_count": 1,
   "metadata": {},
   "outputs": [],
   "source": [
    "import pandas as pd\n",
    "from Bio import SeqIO\n",
    "from Bio.Seq import Seq\n",
    "from Bio.SeqRecord import SeqRecord\n",
    "\n",
    "organism = \"Saccharomyces cerevisiae\"\n",
    "deg_ac = \"DNEGSCER\"\n",
    "refseq = \"559292\"\n",
    "\n",
    "names = [\"#DEG_AC\", \"#Gene_Name\", \"#Gene_Ref\", \"#COG\", \"#Class\", \"#Function\", \"#Organism\", \"#Refseq\", \"#Condition\"]\n",
    "\n",
    "df = pd.read_csv('processed_ess/degannotation-e.dat', sep=\"\\t\", header=0, names=names)\n",
    "essential_gene_names = list(df[\"#Gene_Name\"])"
   ]
  },
  {
   "cell_type": "code",
   "execution_count": 2,
   "metadata": {},
   "outputs": [],
   "source": [
    "# Helper functions\n",
    "def create_new_fasta_record(seq, name, desc=\"\"):\n",
    "    return SeqRecord(seq, id=name, name=name, description=desc)\n",
    "\n",
    "def extract_substring_between(string_before, string_after, whole_string):\n",
    "    start = whole_string.find(string_before)\n",
    "    s = str()\n",
    "    \n",
    "    if start != -1:\n",
    "        substring = whole_string.split(string_before, 1)[1]\n",
    "        end_index = substring.find(string_after)\n",
    "        \n",
    "        # Sometimes the substring is the last substring in the string and there is no end_index\n",
    "        if end_index != -1:\n",
    "            s = substring[0: end_index]\n",
    "        else:\n",
    "            s = substring\n",
    "        \n",
    "        # Sometimes there is a . in the substring. This is the gene's version e.g AC011476.11 and AC011476.10\n",
    "        # I am discarding anything after the period, keeping the gene name\n",
    "        dot_index = s.find(\".\")\n",
    "        if dot_index != -1:\n",
    "            s = s[0: dot_index]\n",
    "\n",
    "    return s if len(s) > 0 else \"-\"\n",
    "    \n",
    "def get_gene_name(gene_name, number, nzeros):\n",
    "    return gene_name + str(number).zfill(nzeros)"
   ]
  },
  {
   "cell_type": "markdown",
   "metadata": {},
   "source": [
    "# Generate degseq-ne.dat file. Subtract Essential dataset from the genome Sequence, resulting in non-essential dataset"
   ]
  },
  {
   "cell_type": "code",
   "execution_count": 3,
   "metadata": {},
   "outputs": [],
   "source": [
    "def subtract_and_write_fasta(minuend_path, subtrahend_path, difference_path, organism):\n",
    "    # Our complete dataset\n",
    "    fasta_sequences = SeqIO.parse(open(minuend_path), 'fasta')\n",
    "    \n",
    "    already_added = dict()\n",
    "    \n",
    "    # Smaller dataset to subtract from complete dataset\n",
    "    essential = pd.read_table(subtrahend_path)\n",
    "    essential = essential.loc[essential[\"#Organism\"] == organism]\n",
    "    essential_gene_names = list(essential[\"#Gene_Ref\"])\n",
    "    count = 0\n",
    "\n",
    "    # Output\n",
    "    with open(difference_path, \"w\") as f:\n",
    "        for record in fasta_sequences:\n",
    "            desc = record.description\n",
    "            name = record.name\n",
    "            \n",
    "            if \"_mRNA\" in name:\n",
    "                name = name.replace(\"_mRNA\", \"\")\n",
    "            \n",
    "            if \"gene_biotype:protein_coding\" in desc and \"transcript_biotype:protein_coding\" in desc:\n",
    "                # eg gene:YBR024W gene_biotype:protein_coding - extract YBR024W\n",
    "                gene_ref = extract_substring_between(\"gene_symbol:\", \" \", desc)\n",
    "                \n",
    "                # Check that length of this sequence is divisible by 3 (length of a codon)\n",
    "                if gene_ref != \"-\" and gene_ref not in essential_gene_names and gene_ref not in already_added and len(str(record.seq)) % 3 == 0:\n",
    "                    already_added[gene_ref] = True\n",
    "                    count += 1\n",
    "                    SeqIO.write(create_new_fasta_record(record.seq, name, desc), f, \"fasta\")\n",
    "                    \n",
    "    print(count)"
   ]
  },
  {
   "cell_type": "code",
   "execution_count": 4,
   "metadata": {},
   "outputs": [
    {
     "name": "stdout",
     "output_type": "stream",
     "text": [
      "4020\n"
     ]
    }
   ],
   "source": [
    "subtract_and_write_fasta(\"raw_data/scer.cds.all.sorted.fa\", \"processed_ess/degannotation-e.dat\", \"processed_ness/degseq-ne.dat\", organism)"
   ]
  },
  {
   "cell_type": "markdown",
   "metadata": {},
   "source": [
    "# Generate degaa-ne.dat file"
   ]
  },
  {
   "cell_type": "code",
   "execution_count": 5,
   "metadata": {},
   "outputs": [],
   "source": [
    "def translate_dna_seq(fasta_input_dna_file, fasta_output_path):\n",
    "    fasta_sequences = SeqIO.parse(open(fasta_input_dna_file), 'fasta')\n",
    "\n",
    "    with open(fasta_output_path, \"w\") as out:\n",
    "        for record in fasta_sequences:\n",
    "            desc = record.description\n",
    "            name = record.name\n",
    "            seq = record.seq\n",
    "\n",
    "            aa_seq = seq.translate(stop_symbol=\"\")\n",
    "            \n",
    "            SeqIO.write(create_new_fasta_record(aa_seq, name, desc), out, \"fasta\")\n",
    "            \n",
    "translate_dna_seq(\"processed_ness/degseq-ne.dat\", \"processed_ness/degaa-ne.dat\")"
   ]
  },
  {
   "cell_type": "markdown",
   "metadata": {},
   "source": [
    "# Generate degannotation-ne.dat File"
   ]
  },
  {
   "cell_type": "code",
   "execution_count": 6,
   "metadata": {},
   "outputs": [],
   "source": [
    "fasta_sequences = SeqIO.parse(open(\"processed_ness/degseq-ne.dat\"), 'fasta')\n",
    "\n",
    "gene_names = list()\n",
    "gene_refs = list()\n",
    "functions = list()\n",
    "ref_seqs = list()\n",
    "\n",
    "for record in fasta_sequences:\n",
    "    desc = record.description\n",
    "    name = record.name\n",
    "    \n",
    "    gene_ref = extract_substring_between(\"gene_symbol:\", \" \", desc)\n",
    "    \n",
    "    gene_refs.append(gene_ref)\n",
    "\n",
    "    function = extract_substring_between(\"description:\", \"[\", desc)\n",
    "    functions.append(function)\n",
    "\n",
    "    gene_names.append(name)\n",
    "\n",
    "num_rows = len(gene_names)\n",
    "deg_acs = [deg_ac for i in range(num_rows)]\n",
    "organisms = [organism for i in range(num_rows)]\n",
    "ref_seqs = [refseq for i in range(num_rows)]\n",
    "dashes = [\"-\" for i in range(num_rows)] # #COG, #Class, #Conditions\n",
    "\n",
    "cols = list(zip(deg_acs, gene_names, gene_refs, dashes, dashes, functions, organisms, ref_seqs, dashes))\n",
    "new_df = pd.DataFrame(cols, columns=[\"#DEG_AC\", \"#Gene_Name\", \"#Gene_Ref\", \"#COG\", \"#Class\",\n",
    "                                     \"#Function\", \"#Organism\", \"#Refseq\", \"#Condition\"])\n",
    "\n",
    "new_df.to_csv(\"processed_ness/degannotation-ne.dat\", sep =\"\\t\", index=False)"
   ]
  }
 ],
 "metadata": {
  "kernelspec": {
   "display_name": "Python 3",
   "language": "python",
   "name": "python3"
  },
  "language_info": {
   "codemirror_mode": {
    "name": "ipython",
    "version": 3
   },
   "file_extension": ".py",
   "mimetype": "text/x-python",
   "name": "python",
   "nbconvert_exporter": "python",
   "pygments_lexer": "ipython3",
   "version": "3.6.13"
  }
 },
 "nbformat": 4,
 "nbformat_minor": 4
}
